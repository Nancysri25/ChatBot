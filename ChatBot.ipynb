{
 "cells": [
  {
   "cell_type": "markdown",
   "id": "1c345537",
   "metadata": {},
   "source": [
    "# Question and Answer Chat Bots"
   ]
  },
  {
   "cell_type": "markdown",
   "id": "414db7d3",
   "metadata": {},
   "source": []
  },
  {
   "cell_type": "markdown",
   "id": "2f0c4613",
   "metadata": {},
   "source": [
    "## Loading the Data"
   ]
  },
  {
   "cell_type": "code",
   "execution_count": 1,
   "id": "a5d8e3be",
   "metadata": {},
   "outputs": [],
   "source": [
    "import pickle"
   ]
  },
  {
   "cell_type": "code",
   "execution_count": 2,
   "id": "e73b5b13",
   "metadata": {},
   "outputs": [],
   "source": [
    "import numpy as np\n",
    "import pandas as pd"
   ]
  },
  {
   "cell_type": "code",
   "execution_count": 3,
   "id": "0eba324d",
   "metadata": {},
   "outputs": [],
   "source": [
    "with open ('train_qa.txt','rb') as f:\n",
    "    train_data=pickle.load(f)"
   ]
  },
  {
   "cell_type": "code",
   "execution_count": 4,
   "id": "2e8c5192",
   "metadata": {},
   "outputs": [],
   "source": [
    "with open ('test_qa.txt','rb') as f:\n",
    "    test_data=pickle.load(f)"
   ]
  },
  {
   "cell_type": "markdown",
   "id": "f6274435",
   "metadata": {},
   "source": [
    "## Exploring the Format of the Data"
   ]
  },
  {
   "cell_type": "code",
   "execution_count": 5,
   "id": "46bee93c",
   "metadata": {},
   "outputs": [
    {
     "data": {
      "text/plain": [
       "list"
      ]
     },
     "execution_count": 5,
     "metadata": {},
     "output_type": "execute_result"
    }
   ],
   "source": [
    "type(train_data)"
   ]
  },
  {
   "cell_type": "code",
   "execution_count": 6,
   "id": "922e6cd2",
   "metadata": {},
   "outputs": [
    {
     "data": {
      "text/plain": [
       "list"
      ]
     },
     "execution_count": 6,
     "metadata": {},
     "output_type": "execute_result"
    }
   ],
   "source": [
    "type(test_data)"
   ]
  },
  {
   "cell_type": "code",
   "execution_count": 7,
   "id": "75aa301a",
   "metadata": {},
   "outputs": [
    {
     "data": {
      "text/plain": [
       "10000"
      ]
     },
     "execution_count": 7,
     "metadata": {},
     "output_type": "execute_result"
    }
   ],
   "source": [
    "len(train_data)"
   ]
  },
  {
   "cell_type": "code",
   "execution_count": 8,
   "id": "bc46af01",
   "metadata": {},
   "outputs": [
    {
     "data": {
      "text/plain": [
       "1000"
      ]
     },
     "execution_count": 8,
     "metadata": {},
     "output_type": "execute_result"
    }
   ],
   "source": [
    "len(test_data)"
   ]
  },
  {
   "cell_type": "code",
   "execution_count": 9,
   "id": "35bb0fca",
   "metadata": {},
   "outputs": [
    {
     "data": {
      "text/plain": [
       "(['Mary',\n",
       "  'moved',\n",
       "  'to',\n",
       "  'the',\n",
       "  'bathroom',\n",
       "  '.',\n",
       "  'Sandra',\n",
       "  'journeyed',\n",
       "  'to',\n",
       "  'the',\n",
       "  'bedroom',\n",
       "  '.'],\n",
       " ['Is', 'Sandra', 'in', 'the', 'hallway', '?'],\n",
       " 'no')"
      ]
     },
     "execution_count": 9,
     "metadata": {},
     "output_type": "execute_result"
    }
   ],
   "source": [
    "train_data[0]"
   ]
  },
  {
   "cell_type": "markdown",
   "id": "98cfbe0e",
   "metadata": {},
   "source": [
    "##### There are 3 main components. The story, question and answer."
   ]
  },
  {
   "cell_type": "code",
   "execution_count": 10,
   "id": "d9163e67",
   "metadata": {},
   "outputs": [
    {
     "data": {
      "text/plain": [
       "'Mary moved to the bathroom . Sandra journeyed to the bedroom .'"
      ]
     },
     "execution_count": 10,
     "metadata": {},
     "output_type": "execute_result"
    }
   ],
   "source": [
    "' '.join(train_data[0][0])"
   ]
  },
  {
   "cell_type": "code",
   "execution_count": 11,
   "id": "f9b4e8d1",
   "metadata": {},
   "outputs": [
    {
     "data": {
      "text/plain": [
       "'Is Sandra in the hallway ?'"
      ]
     },
     "execution_count": 11,
     "metadata": {},
     "output_type": "execute_result"
    }
   ],
   "source": [
    "' '.join(train_data[0][1])"
   ]
  },
  {
   "cell_type": "code",
   "execution_count": 12,
   "id": "84229263",
   "metadata": {},
   "outputs": [
    {
     "data": {
      "text/plain": [
       "'no'"
      ]
     },
     "execution_count": 12,
     "metadata": {},
     "output_type": "execute_result"
    }
   ],
   "source": [
    "train_data[0][2]"
   ]
  },
  {
   "cell_type": "markdown",
   "id": "ebeb6b67",
   "metadata": {},
   "source": [
    "## Setting up Vocabulary of All Words"
   ]
  },
  {
   "cell_type": "code",
   "execution_count": 13,
   "id": "8b7774d0",
   "metadata": {},
   "outputs": [],
   "source": [
    "all_data=train_data+test_data"
   ]
  },
  {
   "cell_type": "code",
   "execution_count": 14,
   "id": "8bc5b904",
   "metadata": {},
   "outputs": [
    {
     "data": {
      "text/plain": [
       "11000"
      ]
     },
     "execution_count": 14,
     "metadata": {},
     "output_type": "execute_result"
    }
   ],
   "source": [
    "len(all_data)"
   ]
  },
  {
   "cell_type": "code",
   "execution_count": 15,
   "id": "35dd6f2b",
   "metadata": {},
   "outputs": [],
   "source": [
    "vocab=set()\n",
    "\n",
    "for story,question,answer in all_data:\n",
    "    vocab=vocab.union(set(story))\n",
    "    vocab=vocab.union(set(question))\n",
    "    \n",
    "vocab.add('no')\n",
    "vocab.add('yes')\n",
    "    "
   ]
  },
  {
   "cell_type": "code",
   "execution_count": 16,
   "id": "b9dd1d6a",
   "metadata": {},
   "outputs": [
    {
     "data": {
      "text/plain": [
       "37"
      ]
     },
     "execution_count": 16,
     "metadata": {},
     "output_type": "execute_result"
    }
   ],
   "source": [
    "len(vocab)"
   ]
  },
  {
   "cell_type": "code",
   "execution_count": 17,
   "id": "8f4871b5",
   "metadata": {},
   "outputs": [],
   "source": [
    "vocab_len=len(vocab)+1"
   ]
  },
  {
   "cell_type": "markdown",
   "id": "e8d612a6",
   "metadata": {},
   "source": [
    "##### Longest Story and Question"
   ]
  },
  {
   "cell_type": "code",
   "execution_count": 18,
   "id": "9597f95f",
   "metadata": {},
   "outputs": [],
   "source": [
    "max_story_len=max([len(data[0]) for data in all_data])"
   ]
  },
  {
   "cell_type": "code",
   "execution_count": 19,
   "id": "73c3ab8a",
   "metadata": {},
   "outputs": [],
   "source": [
    "max_question_len=max([len(data[1]) for data in all_data])"
   ]
  },
  {
   "cell_type": "markdown",
   "id": "80a61a6b",
   "metadata": {},
   "source": [
    "## Vectorizing the Data"
   ]
  },
  {
   "cell_type": "code",
   "execution_count": 20,
   "id": "5bfe8f77",
   "metadata": {},
   "outputs": [],
   "source": [
    "from keras.utils import pad_sequences\n",
    "from keras.preprocessing.text import Tokenizer"
   ]
  },
  {
   "cell_type": "code",
   "execution_count": 21,
   "id": "1a9ef855",
   "metadata": {},
   "outputs": [],
   "source": [
    "tokenizer = Tokenizer(filters=[])\n",
    "tokenizer.fit_on_texts(vocab)"
   ]
  },
  {
   "cell_type": "code",
   "execution_count": 22,
   "id": "d92eb5a1",
   "metadata": {},
   "outputs": [
    {
     "data": {
      "text/plain": [
       "{'moved': 1,\n",
       " 'got': 2,\n",
       " 'bedroom': 3,\n",
       " 'garden': 4,\n",
       " 'there': 5,\n",
       " 'travelled': 6,\n",
       " 'kitchen': 7,\n",
       " 'took': 8,\n",
       " '.': 9,\n",
       " 'hallway': 10,\n",
       " '?': 11,\n",
       " 'back': 12,\n",
       " 'milk': 13,\n",
       " 'to': 14,\n",
       " 'yes': 15,\n",
       " 'football': 16,\n",
       " 'bathroom': 17,\n",
       " 'left': 18,\n",
       " 'grabbed': 19,\n",
       " 'mary': 20,\n",
       " 'journeyed': 21,\n",
       " 'went': 22,\n",
       " 'dropped': 23,\n",
       " 'no': 24,\n",
       " 'the': 25,\n",
       " 'apple': 26,\n",
       " 'in': 27,\n",
       " 'up': 28,\n",
       " 'john': 29,\n",
       " 'put': 30,\n",
       " 'daniel': 31,\n",
       " 'discarded': 32,\n",
       " 'picked': 33,\n",
       " 'is': 34,\n",
       " 'down': 35,\n",
       " 'sandra': 36,\n",
       " 'office': 37}"
      ]
     },
     "execution_count": 22,
     "metadata": {},
     "output_type": "execute_result"
    }
   ],
   "source": [
    "tokenizer.word_index"
   ]
  },
  {
   "cell_type": "code",
   "execution_count": 23,
   "id": "5d76b823",
   "metadata": {},
   "outputs": [],
   "source": [
    "train_story_text = []\n",
    "train_question_text = []\n",
    "train_answers = []\n",
    "\n",
    "for story,question,answer in train_data:\n",
    "    train_story_text.append(story)\n",
    "    train_question_text.append(question)\n",
    "    train_answers.append(answer)"
   ]
  },
  {
   "cell_type": "markdown",
   "id": "f39c43c3",
   "metadata": {},
   "source": [
    "##### converting each word to its matching word index using text_to_sequences"
   ]
  },
  {
   "cell_type": "code",
   "execution_count": 24,
   "id": "2089b58b",
   "metadata": {},
   "outputs": [],
   "source": [
    "train_story_seq = tokenizer.texts_to_sequences(train_story_text)"
   ]
  },
  {
   "cell_type": "code",
   "execution_count": 25,
   "id": "6ca6a8be",
   "metadata": {},
   "outputs": [
    {
     "data": {
      "text/plain": [
       "10000"
      ]
     },
     "execution_count": 25,
     "metadata": {},
     "output_type": "execute_result"
    }
   ],
   "source": [
    "len(train_story_text)"
   ]
  },
  {
   "cell_type": "code",
   "execution_count": 26,
   "id": "2cc0a832",
   "metadata": {},
   "outputs": [
    {
     "data": {
      "text/plain": [
       "10000"
      ]
     },
     "execution_count": 26,
     "metadata": {},
     "output_type": "execute_result"
    }
   ],
   "source": [
    "len(train_story_seq)"
   ]
  },
  {
   "cell_type": "markdown",
   "id": "7b5374be",
   "metadata": {},
   "source": [
    "### Functionalize Vectorization"
   ]
  },
  {
   "cell_type": "code",
   "execution_count": 27,
   "id": "46cddff3",
   "metadata": {},
   "outputs": [],
   "source": [
    "def vectorize_stories(data, word_index=tokenizer.word_index, max_story_len=max_story_len,max_question_len=max_question_len):\n",
    "    '''\n",
    "    INPUT: \n",
    "    data: consisting of Stories,Queries,and Answers\n",
    "    word_index: word index dictionary from tokenizer\n",
    "    max_story_len: the length of the longest story (used for pad_sequences function)\n",
    "    max_question_len: length of the longest question (used for pad_sequences function)\n",
    "\n",
    "\n",
    "    OUTPUT:\n",
    "    \n",
    "    Vectorizes the stories,questions, and answers into padded sequences. We first loop for every story, query , and\n",
    "    answer in the data. Then we convert the raw words to an word index value. Then we append each set to their appropriate\n",
    "    output list. Then once we have converted the words to numbers, we pad the sequences so they are all of equal length.\n",
    "    \n",
    "    Returns this in the form of a tuple (X,Xq,Y) (padded based on max lengths)\n",
    "    '''\n",
    "    \n",
    "    \n",
    "    # X = STORIES\n",
    "    X = []\n",
    "    # Xq = QUERY/QUESTION\n",
    "    Xq = []\n",
    "    # Y = CORRECT ANSWER\n",
    "    Y = []\n",
    "    \n",
    "    \n",
    "    for story, query, answer in data:\n",
    "        \n",
    "        # Grab the word index\n",
    "        x = [word_index[word.lower()] for word in story]\n",
    "        xq = [word_index[word.lower()] for word in query]\n",
    "        \n",
    "        # Index 0 is reserved so we're going to use + 1\n",
    "        y = np.zeros(len(word_index) + 1)\n",
    "        \n",
    "        # Now that y is all zeros and we know its just Yes/No , we can use numpy logic to create this assignment\n",
    "        y[word_index[answer]] = 1\n",
    "        \n",
    "        # Append each set of story,query, and answer to their respective holding lists\n",
    "        X.append(x)\n",
    "        Xq.append(xq)\n",
    "        Y.append(y)\n",
    "        \n",
    "    # Finally, pad the sequences based on their max length so the RNN can be trained on uniformly long sequences.\n",
    "        \n",
    "    # RETURN TUPLE FOR UNPACKING\n",
    "    return (pad_sequences(X, maxlen=max_story_len),pad_sequences(Xq, maxlen=max_question_len), np.array(Y))"
   ]
  },
  {
   "cell_type": "code",
   "execution_count": 28,
   "id": "0e737b73",
   "metadata": {},
   "outputs": [],
   "source": [
    "inputs_train, queries_train, answers_train = vectorize_stories(train_data)"
   ]
  },
  {
   "cell_type": "code",
   "execution_count": 29,
   "id": "c9a6c5bb",
   "metadata": {},
   "outputs": [],
   "source": [
    "inputs_test, queries_test, answers_test = vectorize_stories(test_data)"
   ]
  },
  {
   "cell_type": "code",
   "execution_count": 30,
   "id": "c0a27244",
   "metadata": {},
   "outputs": [
    {
     "data": {
      "text/plain": [
       "array([[ 0,  0,  0, ..., 25,  3,  9],\n",
       "       [ 0,  0,  0, ..., 25,  4,  9],\n",
       "       [ 0,  0,  0, ..., 25,  4,  9],\n",
       "       ...,\n",
       "       [ 0,  0,  0, ..., 25, 26,  9],\n",
       "       [ 0,  0,  0, ..., 25,  4,  9],\n",
       "       [ 0,  0,  0, ..., 26,  5,  9]])"
      ]
     },
     "execution_count": 30,
     "metadata": {},
     "output_type": "execute_result"
    }
   ],
   "source": [
    "inputs_test"
   ]
  },
  {
   "cell_type": "code",
   "execution_count": 31,
   "id": "ee2bd405",
   "metadata": {},
   "outputs": [
    {
     "data": {
      "text/plain": [
       "array([[34, 29, 27, 25,  7, 11],\n",
       "       [34, 29, 27, 25,  7, 11],\n",
       "       [34, 29, 27, 25,  4, 11],\n",
       "       ...,\n",
       "       [34, 20, 27, 25,  3, 11],\n",
       "       [34, 36, 27, 25,  4, 11],\n",
       "       [34, 20, 27, 25,  4, 11]])"
      ]
     },
     "execution_count": 31,
     "metadata": {},
     "output_type": "execute_result"
    }
   ],
   "source": [
    "queries_test"
   ]
  },
  {
   "cell_type": "code",
   "execution_count": 32,
   "id": "db30d77e",
   "metadata": {},
   "outputs": [
    {
     "data": {
      "text/plain": [
       "array([[0., 0., 0., ..., 0., 0., 0.],\n",
       "       [0., 0., 0., ..., 0., 0., 0.],\n",
       "       [0., 0., 0., ..., 0., 0., 0.],\n",
       "       ...,\n",
       "       [0., 0., 0., ..., 0., 0., 0.],\n",
       "       [0., 0., 0., ..., 0., 0., 0.],\n",
       "       [0., 0., 0., ..., 0., 0., 0.]])"
      ]
     },
     "execution_count": 32,
     "metadata": {},
     "output_type": "execute_result"
    }
   ],
   "source": [
    "answers_test"
   ]
  },
  {
   "cell_type": "code",
   "execution_count": 33,
   "id": "c1f7d926",
   "metadata": {},
   "outputs": [
    {
     "data": {
      "text/plain": [
       "array([  0.,   0.,   0.,   0.,   0.,   0.,   0.,   0.,   0.,   0.,   0.,\n",
       "         0.,   0.,   0.,   0., 497.,   0.,   0.,   0.,   0.,   0.,   0.,\n",
       "         0.,   0., 503.,   0.,   0.,   0.,   0.,   0.,   0.,   0.,   0.,\n",
       "         0.,   0.,   0.,   0.,   0.])"
      ]
     },
     "execution_count": 33,
     "metadata": {},
     "output_type": "execute_result"
    }
   ],
   "source": [
    "sum(answers_test)"
   ]
  },
  {
   "cell_type": "code",
   "execution_count": 34,
   "id": "c8686681",
   "metadata": {},
   "outputs": [
    {
     "data": {
      "text/plain": [
       "15"
      ]
     },
     "execution_count": 34,
     "metadata": {},
     "output_type": "execute_result"
    }
   ],
   "source": [
    "tokenizer.word_index['yes']"
   ]
  },
  {
   "cell_type": "code",
   "execution_count": 35,
   "id": "1a777c6d",
   "metadata": {},
   "outputs": [
    {
     "data": {
      "text/plain": [
       "24"
      ]
     },
     "execution_count": 35,
     "metadata": {},
     "output_type": "execute_result"
    }
   ],
   "source": [
    "tokenizer.word_index['no']"
   ]
  },
  {
   "cell_type": "markdown",
   "id": "836111e8",
   "metadata": {},
   "source": [
    "## Creating the Model"
   ]
  },
  {
   "cell_type": "code",
   "execution_count": 36,
   "id": "7c3246f8",
   "metadata": {},
   "outputs": [],
   "source": [
    "from keras.models import Sequential, Model\n",
    "from keras.layers import Embedding\n",
    "from keras.layers import Input, Activation, Dense, Permute, Dropout\n",
    "from keras.layers import add, dot, concatenate\n",
    "from keras.layers import LSTM"
   ]
  },
  {
   "cell_type": "code",
   "execution_count": 37,
   "id": "45208738",
   "metadata": {},
   "outputs": [],
   "source": [
    "# PLACEHOLDER shape=(max_story_len,batch_size)\n",
    "input_sequence = Input((max_story_len,))\n",
    "question = Input((max_question_len,))"
   ]
  },
  {
   "cell_type": "code",
   "execution_count": 38,
   "id": "835633f8",
   "metadata": {},
   "outputs": [],
   "source": [
    "vocab_size=len(vocab)+1"
   ]
  },
  {
   "cell_type": "markdown",
   "id": "4c5c20a5",
   "metadata": {},
   "source": [
    "## Encoders\n",
    "\n",
    "##### Input Encoder M"
   ]
  },
  {
   "cell_type": "code",
   "execution_count": 39,
   "id": "440cbf4e",
   "metadata": {},
   "outputs": [],
   "source": [
    "# Input gets embedded to a sequence of vectors\n",
    "input_encoder_m = Sequential()\n",
    "input_encoder_m.add(Embedding(input_dim=vocab_size,output_dim=64))\n",
    "input_encoder_m.add(Dropout(0.3))\n",
    "\n",
    "# output:\n",
    "# (samples, story_maxlen, embedding_dim)"
   ]
  },
  {
   "cell_type": "markdown",
   "id": "6e85238e",
   "metadata": {},
   "source": [
    "##### Input Encoder C"
   ]
  },
  {
   "cell_type": "code",
   "execution_count": 40,
   "id": "762213e4",
   "metadata": {},
   "outputs": [],
   "source": [
    "# Input gets embedded to a sequence of vectors\n",
    "input_encoder_c = Sequential()\n",
    "input_encoder_c.add(Embedding(input_dim=vocab_size,output_dim=max_question_len))\n",
    "input_encoder_c.add(Dropout(0.3))\n",
    "\n",
    "# output:\n",
    "# (samples, story_maxlen,max_question_len )"
   ]
  },
  {
   "cell_type": "markdown",
   "id": "533a7113",
   "metadata": {},
   "source": [
    "##### Question Encoder"
   ]
  },
  {
   "cell_type": "code",
   "execution_count": 41,
   "id": "65fca6ea",
   "metadata": {},
   "outputs": [],
   "source": [
    "# embedded the question into a sequence of vectors\n",
    "question_encoder = Sequential()\n",
    "question_encoder.add(Embedding(input_dim=vocab_size,\n",
    "                               output_dim=64,\n",
    "                               input_length=max_question_len))\n",
    "question_encoder.add(Dropout(0.3))\n",
    "# output: (samples, query_maxlen, embedding_dim)"
   ]
  },
  {
   "cell_type": "markdown",
   "id": "3cc8380f",
   "metadata": {},
   "source": [
    "##### Encode the Sequences"
   ]
  },
  {
   "cell_type": "code",
   "execution_count": 42,
   "id": "61d0995b",
   "metadata": {},
   "outputs": [],
   "source": [
    "# encode input sequence and questions (which are indices)\n",
    "# to sequences of dense vectors\n",
    "input_encoded_m = input_encoder_m(input_sequence)\n",
    "input_encoded_c = input_encoder_c(input_sequence)\n",
    "question_encoded = question_encoder(question)"
   ]
  },
  {
   "cell_type": "markdown",
   "id": "da4b956e",
   "metadata": {},
   "source": [
    "##### Use dot product to compute the match between first input vector seq and the query"
   ]
  },
  {
   "cell_type": "code",
   "execution_count": 43,
   "id": "93242d9d",
   "metadata": {},
   "outputs": [],
   "source": [
    "# shape: `(samples, story_maxlen, query_maxlen)`\n",
    "match = dot([input_encoded_m, question_encoded], axes=(2, 2))\n",
    "match = Activation('softmax')(match)"
   ]
  },
  {
   "cell_type": "markdown",
   "id": "27066284",
   "metadata": {},
   "source": [
    "##### Add this match matrix with the second input vector sequence"
   ]
  },
  {
   "cell_type": "code",
   "execution_count": 44,
   "id": "14773814",
   "metadata": {},
   "outputs": [],
   "source": [
    "response = add([match, input_encoded_c])  # (samples, story_maxlen, query_maxlen)\n",
    "response = Permute((2, 1))(response)  # (samples, query_maxlen, story_maxlen)"
   ]
  },
  {
   "cell_type": "markdown",
   "id": "fed05940",
   "metadata": {},
   "source": [
    "##### Concatenate"
   ]
  },
  {
   "cell_type": "code",
   "execution_count": 45,
   "id": "4cd2546a",
   "metadata": {},
   "outputs": [],
   "source": [
    "# concatenate the match matrix with the question vector sequence\n",
    "answer = concatenate([response, question_encoded])"
   ]
  },
  {
   "cell_type": "code",
   "execution_count": 46,
   "id": "cb4c5269",
   "metadata": {},
   "outputs": [
    {
     "data": {
      "text/plain": [
       "<KerasTensor: shape=(None, 6, 220) dtype=float32 (created by layer 'concatenate')>"
      ]
     },
     "execution_count": 46,
     "metadata": {},
     "output_type": "execute_result"
    }
   ],
   "source": [
    "answer"
   ]
  },
  {
   "cell_type": "code",
   "execution_count": 47,
   "id": "9157dbf2",
   "metadata": {},
   "outputs": [],
   "source": [
    "# Reduce with RNN (LSTM)\n",
    "answer = LSTM(32)(answer)  # (samples, 32)"
   ]
  },
  {
   "cell_type": "code",
   "execution_count": 48,
   "id": "724706ca",
   "metadata": {},
   "outputs": [],
   "source": [
    "# Regularization with Dropout\n",
    "answer = Dropout(0.5)(answer)\n",
    "answer = Dense(vocab_size)(answer)  # (samples, vocab_size)"
   ]
  },
  {
   "cell_type": "code",
   "execution_count": 49,
   "id": "327e1915",
   "metadata": {},
   "outputs": [],
   "source": [
    "# we output a probability distribution over the vocabulary\n",
    "answer = Activation('softmax')(answer)\n",
    "\n",
    "# build the final model\n",
    "model = Model([input_sequence, question], answer)\n",
    "model.compile(optimizer='rmsprop', loss='categorical_crossentropy',\n",
    "              metrics=['accuracy'])"
   ]
  },
  {
   "cell_type": "code",
   "execution_count": 50,
   "id": "2761bcaf",
   "metadata": {},
   "outputs": [
    {
     "name": "stdout",
     "output_type": "stream",
     "text": [
      "Model: \"model\"\n",
      "__________________________________________________________________________________________________\n",
      " Layer (type)                   Output Shape         Param #     Connected to                     \n",
      "==================================================================================================\n",
      " input_1 (InputLayer)           [(None, 156)]        0           []                               \n",
      "                                                                                                  \n",
      " input_2 (InputLayer)           [(None, 6)]          0           []                               \n",
      "                                                                                                  \n",
      " sequential (Sequential)        (None, None, 64)     2432        ['input_1[0][0]']                \n",
      "                                                                                                  \n",
      " sequential_2 (Sequential)      (None, 6, 64)        2432        ['input_2[0][0]']                \n",
      "                                                                                                  \n",
      " dot (Dot)                      (None, 156, 6)       0           ['sequential[0][0]',             \n",
      "                                                                  'sequential_2[0][0]']           \n",
      "                                                                                                  \n",
      " activation (Activation)        (None, 156, 6)       0           ['dot[0][0]']                    \n",
      "                                                                                                  \n",
      " sequential_1 (Sequential)      (None, None, 6)      228         ['input_1[0][0]']                \n",
      "                                                                                                  \n",
      " add (Add)                      (None, 156, 6)       0           ['activation[0][0]',             \n",
      "                                                                  'sequential_1[0][0]']           \n",
      "                                                                                                  \n",
      " permute (Permute)              (None, 6, 156)       0           ['add[0][0]']                    \n",
      "                                                                                                  \n",
      " concatenate (Concatenate)      (None, 6, 220)       0           ['permute[0][0]',                \n",
      "                                                                  'sequential_2[0][0]']           \n",
      "                                                                                                  \n",
      " lstm (LSTM)                    (None, 32)           32384       ['concatenate[0][0]']            \n",
      "                                                                                                  \n",
      " dropout_3 (Dropout)            (None, 32)           0           ['lstm[0][0]']                   \n",
      "                                                                                                  \n",
      " dense (Dense)                  (None, 38)           1254        ['dropout_3[0][0]']              \n",
      "                                                                                                  \n",
      " activation_1 (Activation)      (None, 38)           0           ['dense[0][0]']                  \n",
      "                                                                                                  \n",
      "==================================================================================================\n",
      "Total params: 38,730\n",
      "Trainable params: 38,730\n",
      "Non-trainable params: 0\n",
      "__________________________________________________________________________________________________\n"
     ]
    }
   ],
   "source": [
    "model.summary()"
   ]
  },
  {
   "cell_type": "markdown",
   "id": "6cfc2bbd",
   "metadata": {},
   "source": [
    "## Fit/Train the Network"
   ]
  },
  {
   "cell_type": "code",
   "execution_count": 52,
   "id": "9f1f18c1",
   "metadata": {},
   "outputs": [
    {
     "name": "stdout",
     "output_type": "stream",
     "text": [
      "Epoch 1/100\n",
      "313/313 [==============================] - 3s 9ms/step - loss: 0.6947 - accuracy: 0.5052 - val_loss: 0.6932 - val_accuracy: 0.5030\n",
      "Epoch 2/100\n",
      "313/313 [==============================] - 3s 10ms/step - loss: 0.6960 - accuracy: 0.4893 - val_loss: 0.6945 - val_accuracy: 0.5030\n",
      "Epoch 3/100\n",
      "313/313 [==============================] - 3s 11ms/step - loss: 0.6949 - accuracy: 0.5042 - val_loss: 0.6946 - val_accuracy: 0.4970\n",
      "Epoch 4/100\n",
      "313/313 [==============================] - 3s 10ms/step - loss: 0.6954 - accuracy: 0.4998 - val_loss: 0.6934 - val_accuracy: 0.4970\n",
      "Epoch 5/100\n",
      "313/313 [==============================] - 3s 9ms/step - loss: 0.6952 - accuracy: 0.4982 - val_loss: 0.6932 - val_accuracy: 0.5030\n",
      "Epoch 6/100\n",
      "313/313 [==============================] - 3s 9ms/step - loss: 0.6953 - accuracy: 0.4933 - val_loss: 0.6948 - val_accuracy: 0.4970\n",
      "Epoch 7/100\n",
      "313/313 [==============================] - 3s 9ms/step - loss: 0.6951 - accuracy: 0.4944 - val_loss: 0.6932 - val_accuracy: 0.5030\n",
      "Epoch 8/100\n",
      "313/313 [==============================] - 3s 9ms/step - loss: 0.6949 - accuracy: 0.4973 - val_loss: 0.6936 - val_accuracy: 0.5030\n",
      "Epoch 9/100\n",
      "313/313 [==============================] - 3s 9ms/step - loss: 0.6947 - accuracy: 0.5039 - val_loss: 0.6937 - val_accuracy: 0.4970\n",
      "Epoch 10/100\n",
      "313/313 [==============================] - 3s 9ms/step - loss: 0.6951 - accuracy: 0.5078 - val_loss: 0.6937 - val_accuracy: 0.4970\n",
      "Epoch 11/100\n",
      "313/313 [==============================] - 3s 9ms/step - loss: 0.6950 - accuracy: 0.4975 - val_loss: 0.6938 - val_accuracy: 0.4970\n",
      "Epoch 12/100\n",
      "313/313 [==============================] - 3s 9ms/step - loss: 0.6945 - accuracy: 0.5012 - val_loss: 0.6947 - val_accuracy: 0.4970\n",
      "Epoch 13/100\n",
      "313/313 [==============================] - 3s 9ms/step - loss: 0.6954 - accuracy: 0.4970 - val_loss: 0.6932 - val_accuracy: 0.5030\n",
      "Epoch 14/100\n",
      "313/313 [==============================] - 3s 9ms/step - loss: 0.6951 - accuracy: 0.4944 - val_loss: 0.6941 - val_accuracy: 0.5030\n",
      "Epoch 15/100\n",
      "313/313 [==============================] - 3s 9ms/step - loss: 0.6953 - accuracy: 0.4958 - val_loss: 0.6943 - val_accuracy: 0.4970\n",
      "Epoch 16/100\n",
      "313/313 [==============================] - 3s 9ms/step - loss: 0.6950 - accuracy: 0.4972 - val_loss: 0.6937 - val_accuracy: 0.4970\n",
      "Epoch 17/100\n",
      "313/313 [==============================] - 3s 9ms/step - loss: 0.6947 - accuracy: 0.5024 - val_loss: 0.6932 - val_accuracy: 0.4970\n",
      "Epoch 18/100\n",
      "313/313 [==============================] - 3s 9ms/step - loss: 0.6944 - accuracy: 0.5057 - val_loss: 0.6932 - val_accuracy: 0.4970\n",
      "Epoch 19/100\n",
      "313/313 [==============================] - 3s 9ms/step - loss: 0.6950 - accuracy: 0.5011 - val_loss: 0.6943 - val_accuracy: 0.4970\n",
      "Epoch 20/100\n",
      "313/313 [==============================] - 3s 9ms/step - loss: 0.6947 - accuracy: 0.5019 - val_loss: 0.6935 - val_accuracy: 0.4970\n",
      "Epoch 21/100\n",
      "313/313 [==============================] - 3s 9ms/step - loss: 0.6948 - accuracy: 0.4956 - val_loss: 0.6952 - val_accuracy: 0.5030\n",
      "Epoch 22/100\n",
      "313/313 [==============================] - 3s 9ms/step - loss: 0.6952 - accuracy: 0.4925 - val_loss: 0.6956 - val_accuracy: 0.5030\n",
      "Epoch 23/100\n",
      "313/313 [==============================] - 3s 10ms/step - loss: 0.6953 - accuracy: 0.4917 - val_loss: 0.6932 - val_accuracy: 0.5030\n",
      "Epoch 24/100\n",
      "313/313 [==============================] - 3s 9ms/step - loss: 0.6952 - accuracy: 0.4915 - val_loss: 0.6932 - val_accuracy: 0.5000\n",
      "Epoch 25/100\n",
      "313/313 [==============================] - 3s 9ms/step - loss: 0.6951 - accuracy: 0.4954 - val_loss: 0.6950 - val_accuracy: 0.4970\n",
      "Epoch 26/100\n",
      "313/313 [==============================] - 3s 9ms/step - loss: 0.6948 - accuracy: 0.4968 - val_loss: 0.6932 - val_accuracy: 0.5030\n",
      "Epoch 27/100\n",
      "313/313 [==============================] - 3s 9ms/step - loss: 0.6952 - accuracy: 0.4972 - val_loss: 0.6935 - val_accuracy: 0.4970\n",
      "Epoch 28/100\n",
      "313/313 [==============================] - 3s 9ms/step - loss: 0.6951 - accuracy: 0.4952 - val_loss: 0.6933 - val_accuracy: 0.4970\n",
      "Epoch 29/100\n",
      "313/313 [==============================] - 3s 9ms/step - loss: 0.6947 - accuracy: 0.5000 - val_loss: 0.6945 - val_accuracy: 0.5030\n",
      "Epoch 30/100\n",
      "313/313 [==============================] - 3s 9ms/step - loss: 0.6948 - accuracy: 0.4981 - val_loss: 0.6931 - val_accuracy: 0.5030\n",
      "Epoch 31/100\n",
      "313/313 [==============================] - 3s 9ms/step - loss: 0.6948 - accuracy: 0.5017 - val_loss: 0.6949 - val_accuracy: 0.4970\n",
      "Epoch 32/100\n",
      "313/313 [==============================] - 3s 9ms/step - loss: 0.6949 - accuracy: 0.5004 - val_loss: 0.6933 - val_accuracy: 0.4970\n",
      "Epoch 33/100\n",
      "313/313 [==============================] - 3s 9ms/step - loss: 0.6949 - accuracy: 0.5010 - val_loss: 0.6956 - val_accuracy: 0.4970\n",
      "Epoch 34/100\n",
      "313/313 [==============================] - 3s 9ms/step - loss: 0.6948 - accuracy: 0.4997 - val_loss: 0.6931 - val_accuracy: 0.5080\n",
      "Epoch 35/100\n",
      "313/313 [==============================] - 3s 10ms/step - loss: 0.6942 - accuracy: 0.5068 - val_loss: 0.6934 - val_accuracy: 0.5030\n",
      "Epoch 36/100\n",
      "313/313 [==============================] - 3s 9ms/step - loss: 0.6943 - accuracy: 0.5073 - val_loss: 0.6938 - val_accuracy: 0.4970\n",
      "Epoch 37/100\n",
      "313/313 [==============================] - 3s 9ms/step - loss: 0.6948 - accuracy: 0.5060 - val_loss: 0.6931 - val_accuracy: 0.5030\n",
      "Epoch 38/100\n",
      "313/313 [==============================] - 3s 9ms/step - loss: 0.6952 - accuracy: 0.4891 - val_loss: 0.6932 - val_accuracy: 0.5030\n",
      "Epoch 39/100\n",
      "313/313 [==============================] - 3s 9ms/step - loss: 0.6949 - accuracy: 0.5018 - val_loss: 0.6934 - val_accuracy: 0.5030\n",
      "Epoch 40/100\n",
      "313/313 [==============================] - 3s 9ms/step - loss: 0.6940 - accuracy: 0.5095 - val_loss: 0.6941 - val_accuracy: 0.4970\n",
      "Epoch 41/100\n",
      "313/313 [==============================] - 3s 9ms/step - loss: 0.6951 - accuracy: 0.4999 - val_loss: 0.6935 - val_accuracy: 0.5030\n",
      "Epoch 42/100\n",
      "313/313 [==============================] - 3s 9ms/step - loss: 0.6946 - accuracy: 0.4969 - val_loss: 0.6947 - val_accuracy: 0.5030\n",
      "Epoch 43/100\n",
      "313/313 [==============================] - 3s 9ms/step - loss: 0.6952 - accuracy: 0.4966 - val_loss: 0.6969 - val_accuracy: 0.4970\n",
      "Epoch 44/100\n",
      "313/313 [==============================] - 3s 9ms/step - loss: 0.6940 - accuracy: 0.5122 - val_loss: 0.6932 - val_accuracy: 0.4980\n",
      "Epoch 45/100\n",
      "313/313 [==============================] - 3s 9ms/step - loss: 0.6949 - accuracy: 0.4989 - val_loss: 0.6933 - val_accuracy: 0.4980\n",
      "Epoch 46/100\n",
      "313/313 [==============================] - 3s 9ms/step - loss: 0.6946 - accuracy: 0.5003 - val_loss: 0.6934 - val_accuracy: 0.5090\n",
      "Epoch 47/100\n",
      "313/313 [==============================] - 3s 9ms/step - loss: 0.6945 - accuracy: 0.5048 - val_loss: 0.6941 - val_accuracy: 0.4960\n",
      "Epoch 48/100\n",
      "313/313 [==============================] - 3s 9ms/step - loss: 0.6933 - accuracy: 0.5169 - val_loss: 0.6938 - val_accuracy: 0.4840\n",
      "Epoch 49/100\n",
      "313/313 [==============================] - 3s 9ms/step - loss: 0.6941 - accuracy: 0.5075 - val_loss: 0.6942 - val_accuracy: 0.4990\n",
      "Epoch 50/100\n",
      "313/313 [==============================] - 3s 9ms/step - loss: 0.6929 - accuracy: 0.5187 - val_loss: 0.6977 - val_accuracy: 0.5020\n",
      "Epoch 51/100\n",
      "313/313 [==============================] - 3s 9ms/step - loss: 0.6933 - accuracy: 0.5223 - val_loss: 0.6949 - val_accuracy: 0.4940\n",
      "Epoch 52/100\n",
      "313/313 [==============================] - 3s 9ms/step - loss: 0.6921 - accuracy: 0.5252 - val_loss: 0.6974 - val_accuracy: 0.5080\n",
      "Epoch 53/100\n",
      "313/313 [==============================] - 3s 9ms/step - loss: 0.6912 - accuracy: 0.5278 - val_loss: 0.6949 - val_accuracy: 0.5070\n",
      "Epoch 54/100\n",
      "313/313 [==============================] - 3s 10ms/step - loss: 0.6913 - accuracy: 0.5276 - val_loss: 0.6953 - val_accuracy: 0.5010\n",
      "Epoch 55/100\n",
      "313/313 [==============================] - 3s 9ms/step - loss: 0.6900 - accuracy: 0.5300 - val_loss: 0.6942 - val_accuracy: 0.5110\n",
      "Epoch 56/100\n",
      "313/313 [==============================] - 3s 9ms/step - loss: 0.6889 - accuracy: 0.5362 - val_loss: 0.6911 - val_accuracy: 0.5340\n",
      "Epoch 57/100\n",
      "313/313 [==============================] - 3s 9ms/step - loss: 0.6828 - accuracy: 0.5512 - val_loss: 0.6824 - val_accuracy: 0.5800\n"
     ]
    },
    {
     "name": "stdout",
     "output_type": "stream",
     "text": [
      "Epoch 58/100\n",
      "313/313 [==============================] - 3s 8ms/step - loss: 0.6725 - accuracy: 0.5708 - val_loss: 0.6659 - val_accuracy: 0.5690\n",
      "Epoch 59/100\n",
      "313/313 [==============================] - 3s 9ms/step - loss: 0.6602 - accuracy: 0.5991 - val_loss: 0.6444 - val_accuracy: 0.6410\n",
      "Epoch 60/100\n",
      "313/313 [==============================] - 3s 9ms/step - loss: 0.6489 - accuracy: 0.6171 - val_loss: 0.6335 - val_accuracy: 0.6490\n",
      "Epoch 61/100\n",
      "313/313 [==============================] - 3s 9ms/step - loss: 0.6378 - accuracy: 0.6327 - val_loss: 0.6219 - val_accuracy: 0.6550\n",
      "Epoch 62/100\n",
      "313/313 [==============================] - 3s 9ms/step - loss: 0.6334 - accuracy: 0.6384 - val_loss: 0.6206 - val_accuracy: 0.6520\n",
      "Epoch 63/100\n",
      "313/313 [==============================] - 3s 9ms/step - loss: 0.6257 - accuracy: 0.6482 - val_loss: 0.6132 - val_accuracy: 0.6500\n",
      "Epoch 64/100\n",
      "313/313 [==============================] - 3s 9ms/step - loss: 0.6203 - accuracy: 0.6625 - val_loss: 0.6061 - val_accuracy: 0.6770\n",
      "Epoch 65/100\n",
      "313/313 [==============================] - 3s 9ms/step - loss: 0.6206 - accuracy: 0.6665 - val_loss: 0.6029 - val_accuracy: 0.6770\n",
      "Epoch 66/100\n",
      "313/313 [==============================] - 3s 9ms/step - loss: 0.6136 - accuracy: 0.6719 - val_loss: 0.5999 - val_accuracy: 0.6780\n",
      "Epoch 67/100\n",
      "313/313 [==============================] - 3s 9ms/step - loss: 0.6039 - accuracy: 0.6813 - val_loss: 0.6007 - val_accuracy: 0.6680\n",
      "Epoch 68/100\n",
      "313/313 [==============================] - 3s 9ms/step - loss: 0.5966 - accuracy: 0.6915 - val_loss: 0.5851 - val_accuracy: 0.6880\n",
      "Epoch 69/100\n",
      "313/313 [==============================] - 3s 9ms/step - loss: 0.5895 - accuracy: 0.6957 - val_loss: 0.5796 - val_accuracy: 0.6940\n",
      "Epoch 70/100\n",
      "313/313 [==============================] - 3s 9ms/step - loss: 0.5819 - accuracy: 0.6983 - val_loss: 0.5769 - val_accuracy: 0.6870\n",
      "Epoch 71/100\n",
      "313/313 [==============================] - 3s 9ms/step - loss: 0.5740 - accuracy: 0.7088 - val_loss: 0.5671 - val_accuracy: 0.6980\n",
      "Epoch 72/100\n",
      "313/313 [==============================] - 3s 9ms/step - loss: 0.5667 - accuracy: 0.7155 - val_loss: 0.5603 - val_accuracy: 0.7050\n",
      "Epoch 73/100\n",
      "313/313 [==============================] - 3s 9ms/step - loss: 0.5568 - accuracy: 0.7137 - val_loss: 0.5511 - val_accuracy: 0.7130\n",
      "Epoch 74/100\n",
      "313/313 [==============================] - 3s 9ms/step - loss: 0.5518 - accuracy: 0.7231 - val_loss: 0.5495 - val_accuracy: 0.7110\n",
      "Epoch 75/100\n",
      "313/313 [==============================] - 3s 9ms/step - loss: 0.5375 - accuracy: 0.7332 - val_loss: 0.5435 - val_accuracy: 0.7090\n",
      "Epoch 76/100\n",
      "313/313 [==============================] - 3s 9ms/step - loss: 0.5293 - accuracy: 0.7378 - val_loss: 0.5253 - val_accuracy: 0.7320\n",
      "Epoch 77/100\n",
      "313/313 [==============================] - 3s 9ms/step - loss: 0.5282 - accuracy: 0.7355 - val_loss: 0.5357 - val_accuracy: 0.7140\n",
      "Epoch 78/100\n",
      "313/313 [==============================] - 3s 9ms/step - loss: 0.5180 - accuracy: 0.7470 - val_loss: 0.5202 - val_accuracy: 0.7390\n",
      "Epoch 79/100\n",
      "313/313 [==============================] - 3s 9ms/step - loss: 0.5118 - accuracy: 0.7487 - val_loss: 0.5175 - val_accuracy: 0.7390\n",
      "Epoch 80/100\n",
      "313/313 [==============================] - 3s 9ms/step - loss: 0.5034 - accuracy: 0.7549 - val_loss: 0.5174 - val_accuracy: 0.7340\n",
      "Epoch 81/100\n",
      "313/313 [==============================] - 3s 9ms/step - loss: 0.4913 - accuracy: 0.7648 - val_loss: 0.4949 - val_accuracy: 0.7600\n",
      "Epoch 82/100\n",
      "313/313 [==============================] - 3s 9ms/step - loss: 0.4725 - accuracy: 0.7816 - val_loss: 0.4895 - val_accuracy: 0.7600\n",
      "Epoch 83/100\n",
      "313/313 [==============================] - 3s 9ms/step - loss: 0.4684 - accuracy: 0.7812 - val_loss: 0.4669 - val_accuracy: 0.7680\n",
      "Epoch 84/100\n",
      "313/313 [==============================] - 3s 9ms/step - loss: 0.4665 - accuracy: 0.7814 - val_loss: 0.4702 - val_accuracy: 0.7640\n",
      "Epoch 85/100\n",
      "313/313 [==============================] - 3s 9ms/step - loss: 0.4502 - accuracy: 0.7937 - val_loss: 0.4510 - val_accuracy: 0.7820\n",
      "Epoch 86/100\n",
      "313/313 [==============================] - 3s 9ms/step - loss: 0.4442 - accuracy: 0.7977 - val_loss: 0.4606 - val_accuracy: 0.7760\n",
      "Epoch 87/100\n",
      "313/313 [==============================] - 3s 9ms/step - loss: 0.4357 - accuracy: 0.8020 - val_loss: 0.4337 - val_accuracy: 0.7990\n",
      "Epoch 88/100\n",
      "313/313 [==============================] - 3s 9ms/step - loss: 0.4232 - accuracy: 0.8073 - val_loss: 0.4198 - val_accuracy: 0.8080\n",
      "Epoch 89/100\n",
      "313/313 [==============================] - 3s 9ms/step - loss: 0.4128 - accuracy: 0.8173 - val_loss: 0.4089 - val_accuracy: 0.8170\n",
      "Epoch 90/100\n",
      "313/313 [==============================] - 3s 9ms/step - loss: 0.4062 - accuracy: 0.8213 - val_loss: 0.3974 - val_accuracy: 0.8200\n",
      "Epoch 91/100\n",
      "313/313 [==============================] - 3s 9ms/step - loss: 0.3987 - accuracy: 0.8259 - val_loss: 0.3911 - val_accuracy: 0.8160\n",
      "Epoch 92/100\n",
      "313/313 [==============================] - 3s 9ms/step - loss: 0.3906 - accuracy: 0.8299 - val_loss: 0.3998 - val_accuracy: 0.8150\n",
      "Epoch 93/100\n",
      "313/313 [==============================] - 3s 9ms/step - loss: 0.3853 - accuracy: 0.8314 - val_loss: 0.3859 - val_accuracy: 0.8190\n",
      "Epoch 94/100\n",
      "313/313 [==============================] - 3s 9ms/step - loss: 0.3803 - accuracy: 0.8338 - val_loss: 0.3964 - val_accuracy: 0.8130\n",
      "Epoch 95/100\n",
      "313/313 [==============================] - 3s 9ms/step - loss: 0.3725 - accuracy: 0.8341 - val_loss: 0.3735 - val_accuracy: 0.8270\n",
      "Epoch 96/100\n",
      "313/313 [==============================] - 3s 9ms/step - loss: 0.3655 - accuracy: 0.8403 - val_loss: 0.3791 - val_accuracy: 0.8260\n",
      "Epoch 97/100\n",
      "313/313 [==============================] - 3s 9ms/step - loss: 0.3690 - accuracy: 0.8417 - val_loss: 0.3739 - val_accuracy: 0.8290\n",
      "Epoch 98/100\n",
      "313/313 [==============================] - 3s 9ms/step - loss: 0.3603 - accuracy: 0.8422 - val_loss: 0.3654 - val_accuracy: 0.8330\n",
      "Epoch 99/100\n",
      "313/313 [==============================] - 3s 9ms/step - loss: 0.3590 - accuracy: 0.8426 - val_loss: 0.3792 - val_accuracy: 0.8280\n",
      "Epoch 100/100\n",
      "313/313 [==============================] - 3s 9ms/step - loss: 0.3542 - accuracy: 0.8485 - val_loss: 0.3638 - val_accuracy: 0.8250\n"
     ]
    }
   ],
   "source": [
    "history = model.fit([inputs_train, queries_train], answers_train,batch_size=32,epochs=100,validation_data=([inputs_test, queries_test], answers_test))"
   ]
  },
  {
   "cell_type": "markdown",
   "id": "3e771786",
   "metadata": {},
   "source": [
    "## Evaluating the Model\n",
    "\n",
    "##### Plotting Out Training History"
   ]
  },
  {
   "cell_type": "code",
   "execution_count": 53,
   "id": "1a312bdb",
   "metadata": {},
   "outputs": [
    {
     "name": "stdout",
     "output_type": "stream",
     "text": [
      "dict_keys(['loss', 'accuracy', 'val_loss', 'val_accuracy'])\n"
     ]
    }
   ],
   "source": [
    "import matplotlib.pyplot as plt\n",
    "%matplotlib inline\n",
    "print(history.history.keys())"
   ]
  },
  {
   "cell_type": "code",
   "execution_count": 54,
   "id": "63c4a068",
   "metadata": {},
   "outputs": [
    {
     "data": {
      "image/png": "[encoded data removed]",
      "text/plain": [
       "<Figure size 432x288 with 1 Axes>"
      ]
     },
     "metadata": {
      "needs_background": "light"
     },
     "output_type": "display_data"
    }
   ],
   "source": [
    "# summarize history for accuracy\n",
    "plt.plot(history.history['accuracy'])\n",
    "plt.plot(history.history['val_accuracy'])\n",
    "plt.title('model accuracy')\n",
    "plt.ylabel('accuracy')\n",
    "plt.xlabel('epoch')\n",
    "plt.legend(['train', 'test'], loc='upper left')\n",
    "plt.show()"
   ]
  },
  {
   "cell_type": "markdown",
   "id": "6db728cd",
   "metadata": {},
   "source": [
    "## Evaluating on Given Test Set"
   ]
  },
  {
   "cell_type": "code",
   "execution_count": 55,
   "id": "13aa1fce",
   "metadata": {},
   "outputs": [
    {
     "name": "stdout",
     "output_type": "stream",
     "text": [
      "32/32 [==============================] - 0s 3ms/step\n"
     ]
    }
   ],
   "source": [
    "pred_results = model.predict(([inputs_test, queries_test]))"
   ]
  },
  {
   "cell_type": "code",
   "execution_count": 56,
   "id": "ce8c1bd9",
   "metadata": {},
   "outputs": [
    {
     "data": {
      "text/plain": [
       "array([[6.1248606e-08, 6.5479703e-08, 6.6528756e-08, ..., 8.1460819e-08,\n",
       "        6.1474609e-08, 6.0394804e-08],\n",
       "       [2.9728051e-08, 3.8549551e-08, 3.6114759e-08, ..., 4.1744535e-08,\n",
       "        2.8803962e-08, 3.2001950e-08],\n",
       "       [2.6850786e-08, 2.1157948e-08, 2.4377977e-08, ..., 2.6307701e-08,\n",
       "        2.5398160e-08, 2.1961334e-08],\n",
       "       ...,\n",
       "       [1.4897698e-08, 1.5767162e-08, 1.5824043e-08, ..., 1.1262157e-08,\n",
       "        9.0180903e-09, 1.4352247e-08],\n",
       "       [1.9136272e-07, 1.1083487e-07, 1.5702130e-07, ..., 1.8384665e-07,\n",
       "        1.8101504e-07, 1.2825683e-07],\n",
       "       [1.5642168e-07, 1.1091714e-07, 1.6945086e-07, ..., 1.6979736e-07,\n",
       "        1.7260935e-07, 1.3600160e-07]], dtype=float32)"
      ]
     },
     "execution_count": 56,
     "metadata": {},
     "output_type": "execute_result"
    }
   ],
   "source": [
    "pred_results"
   ]
  },
  {
   "cell_type": "code",
   "execution_count": 57,
   "id": "bd775d3b",
   "metadata": {},
   "outputs": [
    {
     "data": {
      "text/plain": [
       "(1000, 38)"
      ]
     },
     "execution_count": 57,
     "metadata": {},
     "output_type": "execute_result"
    }
   ],
   "source": [
    "pred_results.shape"
   ]
  },
  {
   "cell_type": "code",
   "execution_count": 80,
   "id": "7d59867a",
   "metadata": {},
   "outputs": [
    {
     "data": {
      "text/plain": [
       "['Mary',\n",
       " 'got',\n",
       " 'the',\n",
       " 'milk',\n",
       " 'there',\n",
       " '.',\n",
       " 'John',\n",
       " 'moved',\n",
       " 'to',\n",
       " 'the',\n",
       " 'bedroom',\n",
       " '.',\n",
       " 'Mary',\n",
       " 'discarded',\n",
       " 'the',\n",
       " 'milk',\n",
       " '.',\n",
       " 'John',\n",
       " 'went',\n",
       " 'to',\n",
       " 'the',\n",
       " 'garden',\n",
       " '.',\n",
       " 'Daniel',\n",
       " 'moved',\n",
       " 'to',\n",
       " 'the',\n",
       " 'bedroom',\n",
       " '.',\n",
       " 'Daniel',\n",
       " 'went',\n",
       " 'to',\n",
       " 'the',\n",
       " 'garden',\n",
       " '.']"
      ]
     },
     "execution_count": 80,
     "metadata": {},
     "output_type": "execute_result"
    }
   ],
   "source": [
    "test_data[2][0]"
   ]
  },
  {
   "cell_type": "code",
   "execution_count": 81,
   "id": "0db205f3",
   "metadata": {},
   "outputs": [
    {
     "name": "stdout",
     "output_type": "stream",
     "text": [
      "Mary got the milk there . John moved to the bedroom . Mary discarded the milk . John went to the garden . Daniel moved to the bedroom . Daniel went to the garden .\n"
     ]
    }
   ],
   "source": [
    "story =' '.join(word for word in test_data[2][0])\n",
    "print(story)"
   ]
  },
  {
   "cell_type": "code",
   "execution_count": 82,
   "id": "3c855500",
   "metadata": {},
   "outputs": [
    {
     "name": "stdout",
     "output_type": "stream",
     "text": [
      "Is John in the garden ?\n"
     ]
    }
   ],
   "source": [
    "query = ' '.join(word for word in test_data[2][1])\n",
    "print(query)"
   ]
  },
  {
   "cell_type": "code",
   "execution_count": 83,
   "id": "00afc11e",
   "metadata": {},
   "outputs": [
    {
     "name": "stdout",
     "output_type": "stream",
     "text": [
      "True Test Answer from Data is: yes\n"
     ]
    }
   ],
   "source": [
    "print(\"True Test Answer from Data is:\",test_data[2][2])"
   ]
  },
  {
   "cell_type": "code",
   "execution_count": 62,
   "id": "e9c715a3",
   "metadata": {},
   "outputs": [
    {
     "name": "stdout",
     "output_type": "stream",
     "text": [
      "Predicted answer is:  no\n",
      "Probability of certainty was:  0.9452177\n"
     ]
    }
   ],
   "source": [
    "#Generate prediction from model\n",
    "val_max = np.argmax(pred_results[0])\n",
    "\n",
    "for key, val in tokenizer.word_index.items():\n",
    "    if val == val_max:\n",
    "        k = key\n",
    "\n",
    "print(\"Predicted answer is: \", k)\n",
    "print(\"Probability of certainty was: \", pred_results[0][val_max])"
   ]
  },
  {
   "cell_type": "code",
   "execution_count": 89,
   "id": "cf2dedce",
   "metadata": {},
   "outputs": [],
   "source": [
    " data=pd.DataFrame(data=[l,a])"
   ]
  },
  {
   "cell_type": "code",
   "execution_count": 86,
   "id": "97e8b0bc",
   "metadata": {},
   "outputs": [],
   "source": [
    "l=[]\n",
    "for i in test_data:\n",
    "    p=i[2]\n",
    "    l.append(p)"
   ]
  },
  {
   "cell_type": "code",
   "execution_count": 76,
   "id": "6562f06b",
   "metadata": {},
   "outputs": [],
   "source": [
    "a=[]\n",
    "for i in pred_results:\n",
    "    val_max = np.argmax(i)\n",
    "    for key, val in tokenizer.word_index.items():\n",
    "        if val == val_max:\n",
    "            k = key\n",
    "            a.append(k)\n",
    "        "
   ]
  },
  {
   "cell_type": "code",
   "execution_count": 92,
   "id": "80a5646b",
   "metadata": {},
   "outputs": [],
   "source": [
    "data=data.transpose()"
   ]
  },
  {
   "cell_type": "code",
   "execution_count": 103,
   "id": "640fed6a",
   "metadata": {},
   "outputs": [],
   "source": [
    "from sklearn.metrics import classification_report,confusion_matrix,accuracy_score"
   ]
  },
  {
   "cell_type": "code",
   "execution_count": 95,
   "id": "fd0c83a6",
   "metadata": {},
   "outputs": [
    {
     "name": "stdout",
     "output_type": "stream",
     "text": [
      "              precision    recall  f1-score   support\n",
      "\n",
      "          no       0.87      0.77      0.82       503\n",
      "         yes       0.79      0.88      0.83       497\n",
      "\n",
      "    accuracy                           0.82      1000\n",
      "   macro avg       0.83      0.83      0.82      1000\n",
      "weighted avg       0.83      0.82      0.82      1000\n",
      "\n"
     ]
    }
   ],
   "source": [
    "print(classification_report(l,a))"
   ]
  },
  {
   "cell_type": "code",
   "execution_count": 96,
   "id": "469c0a4f",
   "metadata": {},
   "outputs": [
    {
     "name": "stdout",
     "output_type": "stream",
     "text": [
      "[[388 115]\n",
      " [ 60 437]]\n"
     ]
    }
   ],
   "source": [
    "print(confusion_matrix(l,a))"
   ]
  },
  {
   "cell_type": "code",
   "execution_count": 104,
   "id": "071720d6",
   "metadata": {},
   "outputs": [
    {
     "name": "stdout",
     "output_type": "stream",
     "text": [
      "0.825\n"
     ]
    }
   ],
   "source": [
    "print(accuracy_score(l,a))"
   ]
  },
  {
   "cell_type": "markdown",
   "id": "e33f511e",
   "metadata": {},
   "source": [
    "### Our model has an accuracy of 82.5%"
   ]
  },
  {
   "cell_type": "code",
   "execution_count": null,
   "id": "8faa7790",
   "metadata": {},
   "outputs": [],
   "source": []
  }
 ],
 "metadata": {
  "kernelspec": {
   "display_name": "Python 3 (ipykernel)",
   "language": "python",
   "name": "python3"
  },
  "language_info": {
   "codemirror_mode": {
    "name": "ipython",
    "version": 3
   },
   "file_extension": ".py",
   "mimetype": "text/x-python",
   "name": "python",
   "nbconvert_exporter": "python",
   "pygments_lexer": "ipython3",
   "version": "3.10.5"
  }
 },
 "nbformat": 4,
 "nbformat_minor": 5
}
